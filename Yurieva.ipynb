{
  "nbformat": 4,
  "nbformat_minor": 0,
  "metadata": {
    "kernelspec": {
      "display_name": "Python",
      "language": "python",
      "name": "conda-env-python-py"
    },
    "language_info": {
      "codemirror_mode": {
        "name": "ipython",
        "version": 3
      },
      "file_extension": ".py",
      "mimetype": "text/x-python",
      "name": "python",
      "nbconvert_exporter": "python",
      "pygments_lexer": "ipython3",
      "version": "3.6.10"
    },
    "colab": {
      "name": "Student_Lab_Template.ipynb",
      "provenance": [],
      "collapsed_sections": [],
      "include_colab_link": true
    }
  },
  "cells": [
    {
      "cell_type": "markdown",
      "metadata": {
        "id": "view-in-github",
        "colab_type": "text"
      },
      "source": [
        "<a href=\"https://colab.research.google.com/github/KsyuYu/MO/blob/main/Yurieva.ipynb\" target=\"_parent\"><img src=\"https://colab.research.google.com/assets/colab-badge.svg\" alt=\"Open In Colab\"/></a>"
      ]
    },
    {
      "cell_type": "markdown",
      "metadata": {
        "id": "vdaqf6vgTTg4"
      },
      "source": [
        "<left>\n",
        "    <img src=\"https://kpi.ua/files/images/kpi.png\" width=\"300\" alt=\"kpi logo\"  />\n",
        "</left>"
      ]
    },
    {
      "cell_type": "markdown",
      "metadata": {
        "id": "y2VgPk2mTThF"
      },
      "source": [
        "# **Метод Ньютона**"
      ]
    },
    {
      "cell_type": "markdown",
      "metadata": {
        "id": "jkRBtAnQTThK"
      },
      "source": [
        "## Виконала студентка групи КМ-81 Юр'єва Ксенія"
      ]
    },
    {
      "cell_type": "markdown",
      "metadata": {
        "id": "CHwOXFUpTThK"
      },
      "source": [
        "# Зміст"
      ]
    },
    {
      "cell_type": "markdown",
      "metadata": {
        "id": "bHSc4iksTThP"
      },
      "source": [
        "* Вступ\n",
        "* Постановка задачі\n",
        "* Теоретична частина\n",
        "  * Теоретичні основи методу Ньютона\n",
        "  * Теоретичні основи методів штрафних функцій. Метод зовнішньої точки\n",
        "  * Приведення матриці Гессе до додатньо визначеного вигляду\n",
        "* Практична частина \n",
        "  * Загальні прийоми обчислення похідних у програмному коді\n",
        "  * Порівняльна характеристика впливу різних параметрів на роботу програми\n",
        "  * Вплив критерія закінчення на збіжність методу\n",
        "* Висновки\n",
        "* Список використаних джерел"
      ]
    },
    {
      "cell_type": "markdown",
      "metadata": {
        "id": "DrX0I2_Ktq-l"
      },
      "source": [
        "----"
      ]
    },
    {
      "cell_type": "markdown",
      "metadata": {
        "id": "G46n-9a6AOld"
      },
      "source": [
        "# Вступ"
      ]
    },
    {
      "cell_type": "markdown",
      "metadata": {
        "id": "M6y1ouhjA5R_"
      },
      "source": [
        "В ході курсової роботи планується проведення досліджень роботи методу Ньютона мінімізації функцій, а саме як різні параметри згідно постановки задачі впливають на збіжність методу до теоретичного мінімуму. \n",
        "\n",
        "Метою проведення досліджень у роботі є отримання набору параметрів, при якому метод оптимізації дає найкращий результат. \n",
        "\n",
        "Завдання — провести дослідження збіжності методу, варіюючи при цьому схеми обчислення І-ої та ІІ-ої похідних, величину кроку в різнецевих схемах та три типи критеріїв закінчення. \n",
        "\n",
        "Об’єктом дослідження є метод Ньютона мінімізації функцій, а предметом — функція Розенброка та усі параметри, які впливають на роботу методу. \n",
        "\n",
        "Метод роботи — пошук та систематизація інформації щодо роботи методу Ньютона, написання програми для спрощення та прискорення проведення обрахунків."
      ]
    },
    {
      "cell_type": "markdown",
      "metadata": {
        "id": "XjTP4cKatqS1"
      },
      "source": [
        "----"
      ]
    },
    {
      "cell_type": "markdown",
      "metadata": {
        "id": "jMUKBzRtATok"
      },
      "source": [
        "# Постановка задачі\n"
      ]
    },
    {
      "cell_type": "markdown",
      "metadata": {
        "id": "9BLxATjFAyKt"
      },
      "source": [
        "Дослідити збіжність методу Ньютона при мінімізації степеневої функції в залежності від:\n",
        "1. Величини кроку h при обчисленні першої та другої похідних.\n",
        "2. Схеми обчислення першої та другої похідних.\n",
        "3. Вигляду критерію закінчення. \n",
        "\n",
        "$ \\begin{cases}\n",
        "   ‖x^{k+1}-x^k ‖/‖x^k ‖ ≤ε\\\\\n",
        "   |f(x^{k+1})-f(x^k)|≤ε\n",
        " \\end{cases}$\n",
        "або\n",
        "$||∇f(x^{(k)})||≤ε$\n",
        "\n",
        "4. Способу приведення матриці Гессе до додатньо визначеного виду.\n",
        "5. Модифікації методу для задач типу $F = \\sum f^2_i(x)$\n",
        "\n",
        "Використати метод штрафних функцій (метод зовнішньої точки) для умовної оптимізації в залежності від:\n",
        "1. Розташування локального мінімума (всередині/поза допустимою областю).\n",
        "2. Виду допустимої області (випукла/невипукла).\n",
        "\n"
      ]
    },
    {
      "cell_type": "markdown",
      "metadata": {
        "id": "oeyNbFPPtpQ-"
      },
      "source": [
        "----"
      ]
    },
    {
      "cell_type": "markdown",
      "metadata": {
        "id": "imKWkeOrAWJ1"
      },
      "source": [
        "# Теоретична частина\n",
        "\n",
        "## Теоретичні основи методу Ньютона\n",
        "Розкладемо цільову функцію в ряд Тейлора, при цьому всі члени порядку 3 і вище відкидаємо — отримаємо квадратичну апроксимацію f(x):\n",
        "\n",
        "$f(x)=f(x^{(k)})+∇f(x^{(k)})^T ∆x+1/2 ∆x^T ∇^2 f(x^{(k)})∆x $,\n",
        "\n",
        "де $f(x)$ — апроксимуюча функція змінної $x$ в точці $x^{(k)}$.\n",
        "\n",
        "$∆x^{(k)}=x^{(k+1)}-x^{(k)}$\n",
        "\n",
        "Якщо $∆x^{(k)}$ — напрямок пошуку в методі Ньютона, тоді\n",
        "\n",
        "$f(x^{(k+1)})=f(x^{(k)})+∇f(x^{(k)})^T ∆x^{(k)}+1/2 ∆x^{(k)^T} ∇^2 f(x^{(k)})∆x^{(k)}$\n",
        "\n",
        "Мінімум функції $f(x)$ за напрямком визначається диференціюванням $f(x)$ за кожною із компонент, після чого отриманий вираз прирівнюється до 0\n",
        "\n",
        "$∇f(x)= ∇f(x^{(k)})+∇^2 f(x^{(k)})∆x=0$.\n",
        "\n",
        "Звідки\n",
        "\n",
        "$∆x=-[∇^2 f(x^{(k)})]^{-1}*∇f(x^{(k)})$,\n",
        "\n",
        "де $[∇^2 f(x^{(k)})]^{-1}$ — матриця, обернена до матриці Гессе $H(x^{(k)})$ в точці $x^{(k)}$.\n",
        "\n",
        "Перехід з точки в точку у методі Ньютона здійснюється у вказаний далі спосіб:\n",
        "\n",
        "$x^{(k+1)}=x^{(k)}-[∇^2 f(x^{(k)})]^{-1}*∇f(x^{(k)})$.\n",
        "\n",
        "Напрямок і величина кроку точно визначені. У задачі пошуку мінімуму довільної квадратичної функції з додатньо визначеною матрицею Гессе метод Ньютона дає рішення за одну ітерацію, вибір початкової точки ролі не грає. У разі загальної нелінійної цільової функції метод Ньютона зійдеться до шуканої точки із квадратичною швидкістю при наступних умовах: матриця Гессе функції, що мінімізується в точці повинна бути додатньо визначена, точка початку ітераційного процесу повинна знаходитися досить близько до $x$. Так як метод Ньютона базується на квадратичній апроксимації, він має квадратичну швидкість збіжності (згадану вище), тобто виконується нерівність\n",
        "\n",
        "$‖ε^{(k+1)}‖≤C‖ε^{(k)}‖^2$,\n",
        "\n",
        "де стала С пов'язана з обумовленістю матриці Гессе. Алгоритму не властиве зменшення значень цільової функції від ітерації до ітерації. Для того, щоб напрямок пошуку був напрямком спуску, повинна виконуватись нерівність\n",
        "\n",
        "$∇f(x^{(k)})^T*S(x^{(k)})<0$.\n",
        "\n",
        "Припустимо, що поточне наближення $x^{(k)}$ не є стаціонарною точкою (тобто $∇f(x^{(k)})≠0$), і знайдемо проекцію напрямку пошуку за методом Ньютона на напрям, що задається градієнтом в точці $x^{(k)}$\n",
        "\n",
        "$-∇f(x^{(k)})^T*∇^2 f(x^{(k)})^{-1}*∇f(x^{(k)}<0$.\n",
        "\n",
        "У випадку коли матриця Гессе $∇^2 f(x^{(k)})$ додатньо визначена в точці $x^{(k)}$, наведена умова виконується, отже, напрямок пошуку за методом Ньютона буде напрямком спуску. Якщо в деякій точці $∇^2 f(x^{(k)})$ від’ємно визначена, то зазначений напрямок є напрямком підйому. У разі невизначеності матриці Гессе до однозначного висновку не приходять. За мінімізації, коли всі власні значення додатні $∇^2 f(x^{(k)})$ (матриця додатньо визначена), локальна квадратична апроксимація відповідає круговій чи еліптичній впадині, у якій наявний мінімум. Якщо пара власних значень має протилежні знаки (матриця невизначена), квадратична апроксимація являє собою сідло, що не має локального мінімуму. У цьому випадку рух у напрямку пошуку по методу Ньютона приведе у сідлову точку. Критерій, що гарантує збіжність методу Ньютона в припущенні, що функція $f(x)$ двічі диференційовна, полягає в тому, що матриця, обернена матриці Гессе цільової функції, повинна бути позитивно визначеною.\n",
        "\n",
        "$[∇^2 f(x^{(k)})]^{-1}≡H^{(-1)} (x^{(k)})>0$\n",
        "\n",
        "\n",
        "## Теоретичні основи методів штрафних функцій. Метод зовнішньої точки\n",
        "\n",
        "Методи штрафних функцій використовуються для вирішення завдань нелінійного програмування. Загальна задача нелінійного програмування виглядає наступним чином:\n",
        "\n",
        "Мінімізувати $f(x); xϵR$ з обмеженнями\n",
        "\n",
        "$g_j (x)≥0; j=1,…,J$\n",
        "\n",
        "$h_k (x)=0; k=1,…,K$\n",
        "\n",
        "$x_i^{(l)}≤x_i≤x_i^{(u)}; i=1,…,n$\n",
        "\n",
        "Передбачається, що відоме початкове наближення $x^{(0)}$, можливо недопустиме. Будується послідовність $x^{(t)}; t=1,…,T$, яка починається з &x^{(0)}& і закінчується точкою $x^{(t)}$, що дає найкраще наближення серед усіх точок побудованої послідовності.\n",
        "\n",
        "У якості $x^{(t)}; t=1,…,T$ беруть стаціонарні точки штрафної функції. Штрафна функція — цільова функція вихідної задачі безумовної оптимізації. За допомогою штрафної функції вихідна задача умовної оптимізації перетворюється в послідовність задач безумовної оптимізації. Методи, засновані на даному підході, визначаються видом штрафної функції, а також правилами, за якими проводиться перерахунок штрафних параметрів на кожному циклі безумовної оптимізації. Штрафна функція, що дозволяє обмежитися рішенням тільки одного завдання безумовної оптимізації, називається точною. При використанні методів штрафних функцій виходить максимальний оптимізуючий ефект за рахунок постійного компромісу між необхідністю виконання обмежень і процесом мінімізації цільової функції $f(x)$, який досягається шляхом присвоєння належних вагів цільової функції і функціям, що задають обмеження. Вплив компонент штрафної функції в процесі оптимізації слабшає, а в границі повністю зникає, так що послідовність проміжних значень штрафної функції сходиться до того ж значення, що і послідовність значень $f(x^{(k)})$  і, отже, їх екстремуми однакові.\n",
        "\n",
        "Штрафна функція визначається наступним виразом:\n",
        "\n",
        "$P(x,R)=f(x)+Ф(R,g(x),h(x))$,\n",
        "\n",
        "де $R$ — набір штрафних параметрів; $Ф$ — штраф, функція від $R$ і функцій, які задають обмеження. Функція $Ф$ визначається таким чином, щоб допустимі точки мали перевагу перед недопустимими щодо безумовної оптимізації штрафної функції.\n",
        "Методи, засновані на перетворенні задач умовної оптимізації в задачі безумовної оптимізації повинні відповідати таким критеріям:\n",
        "\n",
        "1) Рішення підзадач повинні збігатися до вирішення вихідної задачі.\n",
        "\n",
        "$\\lim\\limits_{t\\to T<∞} x^{(t)}=x^*$\n",
        "\n",
        "2) Складність мінімізації $P(x,R)$  повинна бути того ж порядку, що і мінімізації функції $f(x)$.\n",
        "\n",
        "3) Правило перерахунку штрафних параметрів  $R^{(t+1)}=F(R^{(t)})$ повинно бути простим (іноді складність перерахунку може бути виправдана за наявності складних функцій $f(x)$).\n",
        "\n",
        "## Приведення матриці Гессе до додатньо визначеного вигляду\n",
        "\n",
        "Грінштадт побудував схему на основі аналізу власних значень, що забезпечує додатню визначеність наближення. Нехай матриця $H^{*}(х)$ апроксимує $Н(х)$. Масштабуємо матрицю $Н^*(х)$ наступним чином:\n",
        "\n",
        "$П(х)= С^{-1} (х) Н^* (х) С^{-1} (х)$,\n",
        "\n",
        "де $С(х)$ — діагональна матриця, елементи якої рівні $c_{ii}=(|h_{ii}|)^{1/2}$, тобто являють собою додатні квадратні корені із абсолютних значень елементів головної діагоналі $Н^{*}(х)$. Тоді у матриці $П$ всі елементи головної діагоналі або додатні, або від’ємні.\n",
        "\n",
        "Оскільки $C^{-1}(x)$  i $H^{*} (x)$ невласні і порядку $n$, то обернена матриця до їх добутку є добутком їх обернених матриць, взятих у зворотному порядку, або\n",
        "\n",
        "$П^{-1} (х)=С(х) Н^{*-1} (х)С(х)$.\n",
        "\n",
        "Тоді $Н^{*-1}$ може бути вирахувана по масштабованій матриці:\n",
        "\n",
        "$Н^{*-1}(х)=С^{-1}(х)П^{-1}(х)С^{-1}(х)$.\n",
        "\n",
        "У своїй роботі Грінштадт вказав, що $П^{-1}(х)$ можна виразити через власні значення $\\alpha_і$ і власні вектори матриці $П(х)$. Власні вектори матриці, оберненої до даної,дорівнюють власним векторам вихідної матриці, а власні значення оберненої матриці — просто обернені величини власних значень вихідної матриці $(\\alpha_і)^{-1}$. Таким чином,\n",
        "$П^{-1} (х)= \\sum\\limits_{i=1}^n \\alpha_i^{-1} e_i e_i^T$,\n",
        "\n",
        "де $e_i$ — нормований власний вектор, відповідний власному значенню $\\alpha_і$. Потім замість $П^{-1} (х)$ використаємо $П^{*-1}(х)$:\n",
        "\n",
        "$П^{*-1} (х)= \\sum\\limits_{i=1}^n|\\alpha_i|^{-1} e_i e_i^T$,\n",
        "\n",
        "де будь яке  $\\alpha_i=0$ заміняється малою додатньою величиною, так що тепер гарантована додатна визначеність $Н^{*-1} (х)$ при обрахунку за формулою\n",
        "\n",
        "$Н^{*-1} (х)=С^{-1} (х) П^{*-1} (х) С^{-1} (х)$.\n",
        "\n",
        "\n"
      ]
    },
    {
      "cell_type": "markdown",
      "metadata": {
        "id": "S4t5rpwITThQ"
      },
      "source": [
        "----"
      ]
    },
    {
      "cell_type": "markdown",
      "metadata": {
        "id": "xS8UOiQOTThR"
      },
      "source": [
        "# Практична частина"
      ]
    },
    {
      "cell_type": "code",
      "metadata": {
        "id": "htHYiNdDTTha"
      },
      "source": [
        "# Import the libraries we need to use in this lab\n",
        "\n",
        "from mpl_toolkits.mplot3d import Axes3D  # noqa: F401 unused import\n",
        "\n",
        "from sympy import Symbol\n",
        "import math\n",
        "import matplotlib.pyplot as plt\n",
        "from matplotlib import cm\n",
        "from matplotlib.ticker import LinearLocator, FormatStrFormatter\n",
        "import numpy as np"
      ],
      "execution_count": null,
      "outputs": []
    },
    {
      "cell_type": "code",
      "metadata": {
        "id": "NBdkBy0ov2XF"
      },
      "source": [
        "# Defining constants\n",
        "\n",
        "go = 'y'\n",
        "\n",
        "l = 1\n",
        "N = 0\n",
        "\n",
        "znach_x = []\n",
        "znach_y = []\n",
        "znach_z = []\n",
        "R = 10000\n",
        "\n",
        "func_usage = 0\n",
        "h = 0.00001\n"
      ],
      "execution_count": null,
      "outputs": []
    },
    {
      "cell_type": "code",
      "metadata": {
        "id": "-JGzQhDowHmw"
      },
      "source": [
        "# Functions defenition\n",
        "\n",
        "def func_rosenbroks(x1, x2):\n",
        "    #global R\n",
        "    global func_usage\n",
        "    func_usage += 1\n",
        "    return ((1 - x1) ** 2) + (100 * (x2 - (x1 ** 2)) ** 2)\n",
        "    #return ((1 - x1) ** 2) + (100 * (x2 - (x1 ** 2)) ** 2) + R * (1 - (x1 ** 2) - (x2 ** 2)) + R * ((x1 ** 2) + x2 - 0.5)\n",
        "    #return ((1 - x1) ** 2) + (100 * (x2 - (x1 ** 2)) ** 2) + R * (1 - (x1 ** 2) - (x2 ** 2))\n",
        "\n",
        "\n",
        "def d2z(x1, x2, s):\n",
        "    if s == 'x':\n",
        "        fs_x = (func_rosenbroks(x1 + h, x2) - (2 * func_rosenbroks(x1, x2)) + func_rosenbroks(x1 - h, x2)) / (h * h)\n",
        "    elif s == 'y':\n",
        "        fs_x = (func_rosenbroks(x1, x2 + h) - (2 * func_rosenbroks(x1, x2)) + func_rosenbroks(x1, x2 - h)) / (h * h)\n",
        "    else:\n",
        "        print('we have trouble')\n",
        "    return fs_x\n"
      ],
      "execution_count": null,
      "outputs": []
    },
    {
      "cell_type": "markdown",
      "metadata": {
        "id": "Z04Is7F-vAWQ"
      },
      "source": [
        "## Загальні прийоми обчислення похідних у програмному коді\n",
        "\n",
        "Метод Ньютона у ході ітераційного процесу вимагає обчислення вектора градієнта та матриці Гессе, що базуються на обрахунку похідних. Похідні, в свою чергу, можуть бути обраховані як чисельно, так і засобами бібліотек мови Python. \n",
        "Чисельні методи обчислення похідних вимагають знання точки, у якій проводиться обчислення та кроку для обрахунку однієї з трьох різнецевих схем. Використана в якості «скелета» бібліотека мови Python перетворює роботу із похідними на роботу із символьними змінними, таким чином роблячи програму частково автоматизованою. Зупинимося більш детально на символьному типі.\n",
        "Спочатку імпортується пакет для роботи із символами конструкцією ```from sympy import Symbol```. Далі наведена нижче конструкція задає символьні змінні х1 та х2 і створює функцію у, від якої далі братиметься похідна за допомогою методу diff, який застосовується до у.\n"
      ]
    },
    {
      "cell_type": "code",
      "metadata": {
        "id": "jdVcijxmTTha",
        "colab": {
          "base_uri": "https://localhost:8080/"
        },
        "outputId": "b4ebba22-914a-4ab7-ff7c-9c4b9f8a0931"
      },
      "source": [
        "\n",
        "x1 = Symbol('x1')\n",
        "x2 = Symbol('x2')\n",
        "z = (((1 - x1) ** 2) + (100 * (x2 - (x1 ** 2)) ** 2))\n",
        "x_d = z.diff(x1)\n",
        "y_d = z.diff(x2)\n",
        "\n",
        "print('x1_d = ', x_d)\n",
        "print('x2_d = ', y_d)\n"
      ],
      "execution_count": null,
      "outputs": [
        {
          "output_type": "stream",
          "text": [
            "x1_d =  -400*x1*(-x1**2 + x2) + 2*x1 - 2\n",
            "x2_d =  -200*x1**2 + 200*x2\n"
          ],
          "name": "stdout"
        }
      ]
    },
    {
      "cell_type": "markdown",
      "metadata": {
        "id": "Cu1FdaCRwuvy"
      },
      "source": [
        "Отримані коефіцієнти виписуються у програмний код і згодом будуть використані для обрахунку градієнта в точці — це і є часткова автоматизація процесу. Отримуємо результат, записуємо його в код.\n",
        "\n",
        "Так само можна сформувати матрицю Гессе, застосувавши diff вже до x1_d та x2_d.\n",
        "Проте за постановкою задачі необхідно проаналізувати поведінку методу в залежності від схеми обчислення похідних (першої та другої). Тож було програмно реалізовано функції, що обраховують різнецеві схеми(права, ліва, центральна). Аргументи — значення в координаті х1, координаті х2 та змінна, за якою береться похідна. Програмна реалізація виглядає так:\n"
      ]
    },
    {
      "cell_type": "code",
      "metadata": {
        "id": "6flLxCLgw5bK"
      },
      "source": [
        "def dev_left_func(x1, x2, s):\n",
        "    if s == 'x':\n",
        "        fs_x = (func_rosenbroks(x1, x2) - func_rosenbroks(x1 - h, x2)) / h\n",
        "    elif s == 'y':\n",
        "        fs_x = (func_rosenbroks(x1, x2) - func_rosenbroks(x1, x2 - h)) / h\n",
        "    else:\n",
        "        print('we have trouble')\n",
        "    return fs_x\n",
        "\n",
        "\n",
        "def dev_right_func(x1, x2, s):\n",
        "    if s == 'x':\n",
        "        fs_x = (func_rosenbroks(x1 + h, x2) - func_rosenbroks(x1, x2)) / h\n",
        "    elif s == 'y':\n",
        "        fs_x = (func_rosenbroks(x1, x2 + h) - func_rosenbroks(x1, x2)) / h\n",
        "    else:\n",
        "        print('we have trouble')\n",
        "    return fs_x\n",
        "\n",
        "\n",
        "def dev_midle_func(x1, x2, s):\n",
        "    if s == 'x':\n",
        "        fs_x = (func_rosenbroks(x1 + h, x2) - func_rosenbroks(x1 - h, x2)) / (2 * h)\n",
        "    elif s == 'y':\n",
        "        fs_x = (func_rosenbroks(x1, x2 + h) - func_rosenbroks(x1, x2 - h)) / (2 * h)\n",
        "    else:\n",
        "        print('we have trouble')\n",
        "    return fs_x"
      ],
      "execution_count": null,
      "outputs": []
    },
    {
      "cell_type": "markdown",
      "metadata": {
        "id": "uYASV98SxJzc"
      },
      "source": [
        "Оскільки чисельна апроксимація другої похідної дає значення чистих похідних у точці, для обчислення мішаних було використано роботу із символьними функціями. \n",
        "\n",
        "## Порівняльна характеристика впливу різних параметрів на роботу програми\n",
        "\n",
        "Подивимося, як поводить себе програма, отримуючи на вхід різні дані: схеми обчислення похідних та крок. Також у програмі встановлюємо лічильник, що накопичуватиме кількість обчислень значень цільової функції. У порівняння включимо і додаткову інформацію. Порівняльна характеристика різних комбінацій параметрів:\n"
      ]
    },
    {
      "cell_type": "code",
      "metadata": {
        "id": "pTgfSkoCxne9"
      },
      "source": [
        "print(\"choose derrive method: \")\n",
        "scheme_selection = input()\n",
        "\n",
        "znach_z.append(func_rosenbroks(-1.2, 0))\n",
        "\n",
        "X = [-1.2, 0]\n",
        "\n",
        "znach_x.append(X[0])\n",
        "znach_y.append(X[1])\n",
        "\n",
        "x1 = Symbol('x1')\n",
        "x2 = Symbol('x2')\n",
        "\n",
        "y = ((1 - x1) ** 2) + (100 * (x2 - (x1 ** 2)) ** 2)\n",
        "# deltha = 2\n",
        "\n",
        "x1d = y.diff(x1)\n",
        "x2d = y.diff(x2)\n",
        "\n",
        "k1x1_1 = 2\n",
        "k1x1_3 = 400\n",
        "k1x1x2 = -400\n",
        "k1c = -2\n",
        "\n",
        "k2x2 = 200\n",
        "k2x1_2 = -200\n",
        "\n",
        "print(x1d)\n",
        "\n",
        "print(x2d)\n",
        "\n",
        "H = [[x1d.diff(x1), x1d.diff(x2)],\n",
        "     [x2d.diff(x1), x2d.diff(x2)]]\n",
        "\n",
        "print('H = ')\n",
        "print(H[0])\n",
        "print(H[1])\n",
        "\n",
        "counter = 1\n",
        "\n",
        "while True:\n",
        "    H_c = [[1200 * (X[0] ** 2) - 400 * X[1] + 2, -400 * X[0]],\n",
        "           [-400 * X[0], 200]]\n",
        "\n",
        "    print('\\nH_c = ')\n",
        "    print(H_c[0])\n",
        "    print(H_c[1])\n",
        "\n",
        "    H_2 = [[d2z(X[0], X[1], 'x'), -400 * X[0]],\n",
        "           [-400 * X[0], d2z(X[0], X[1], 'y')]]\n",
        "\n",
        "    print('\\nH_2 = ')\n",
        "    print(H_2[0])\n",
        "    print(H_2[1])\n",
        "\n",
        "    detH = (H_c[0][0] * H_c[1][1]) - (H_c[0][1] * H_c[1][0])\n",
        "    print('---------------\\ndetH = ', detH)\n",
        "\n",
        "    trH = [[H_c[1][1], H_c[1][0]],\n",
        "           [H_c[0][1], H_c[0][0]]]\n",
        "    print('---------------\\ntransposed H = ')\n",
        "    print(trH[0])\n",
        "    print(trH[1])\n",
        "\n",
        "    turnH = [[(trH[0][0]/detH), (trH[0][1]/detH)],\n",
        "             [(trH[1][0]/detH), (trH[1][1]/detH)]]\n",
        "    print('---------------\\nturned H = ')\n",
        "    print(turnH[0])\n",
        "    print(turnH[1])\n",
        "\n",
        "    dY_left = [dev_left_func(X[0], X[1], 'x'), dev_left_func(X[0], X[1], 'y')]\n",
        "    print('---------------\\ndY_left', dY_left)\n",
        "\n",
        "    dY_midle = [dev_midle_func(X[0], X[1], 'x'), dev_midle_func(X[0], X[1], 'y')]\n",
        "    print('dY_midle', dY_midle)\n",
        "\n",
        "    dY_right = [dev_right_func(X[0], X[1], 'x'), dev_right_func(X[0], X[1], 'y')]\n",
        "    print('dY_right', dY_right)\n",
        "\n",
        "    dY = [(-400 * X[0] * (-X[0]**2 + X[1]) + 2 * X[0] - 2), (-200 * X[0]**2 + 200 * X[1])]\n",
        "    print('dY', dY)\n",
        "\n",
        "    my_dY = []\n",
        "\n",
        "    if scheme_selection == 'l':\n",
        "        my_dY = dY_left\n",
        "    if scheme_selection == 'm':\n",
        "        my_dY = dY_midle\n",
        "    if scheme_selection == 'r':\n",
        "        my_dY = dY_right\n",
        "    if scheme_selection == 'o':\n",
        "        my_dY = dY\n",
        "\n",
        "\n",
        "    norm_grad = math.sqrt((my_dY[0] ** 2) + (my_dY[1] ** 2))\n",
        "    print('---------------\\n---------------\\nnorm_grad', norm_grad)\n",
        "\n",
        "    deltha_X = [((turnH[0][0] * my_dY[0]) - (turnH[0][1]*my_dY[1])), -((turnH[1][0] * my_dY[0]) - (turnH[1][1] * my_dY[1]))]\n",
        "\n",
        "    print('deltha x ', deltha_X)\n",
        "\n",
        "    X = [X[0] - l * deltha_X[0], X[1] - l * deltha_X[1]]\n",
        "\n",
        "    znach_z.append(func_rosenbroks(X[0], X[1]))\n",
        "    znach_x.append(X[0])\n",
        "    znach_y.append(X[1])\n",
        "\n",
        "    abs_error = math.fabs(znach_z[counter] - znach_z[counter - 1])\n",
        "    rel_error = math.fabs(1 + ((znach_z[counter] - znach_z[counter - 1]) / math.fabs(znach_z[counter - 1]))) * 100\n",
        "    counter += 1\n",
        "    print('---------------\\nAbsolute error = ', abs_error)\n",
        "    print('Relative error = ', rel_error, '%')\n",
        "    print('---------------\\nNew X = ', X)\n",
        "    print('---------------\\nAll z= ', znach_z)\n",
        "    print('All y = ', znach_y)\n",
        "    print('All x = ', znach_x)\n",
        "    if norm_grad<0.00001:\n",
        "        print(\"norm grad succeed\")\n",
        "        break\n",
        "    # if abs_error<0.00001 and rel_error<0.00001:\n",
        "    #     print(\"abs and rel succeed\")\n",
        "    #     break\n",
        "    # counter += 1\n",
        "\n",
        "print(f\"counter: {counter}\")\n",
        "print(f\"func usages: {func_usage}\")\n"
      ],
      "execution_count": null,
      "outputs": []
    },
    {
      "cell_type": "markdown",
      "metadata": {
        "id": "K4ntplDzzSy3"
      },
      "source": [
        "Схема |\tКрок |\tКритерій зупинки та точність |\tК-сть ітерацій |\tК-сть обчислень цільової функції |\tДодатково\n",
        "----|----|----|----|----|----\n",
        "Центральна |\t0.000097 |\tе<0.001 abs and real |\t6 |\t96 |\tNew X =  [0.9999981230796285, 0.9999962461627785] \n",
        "Центральна |\t0.00001 |\te<0.001 abs and real | \t6 |\t96 |\tNew X =  [0.9999999796739858, 0.9999999593479691] \n",
        "Центральна |\t0.0001 |\te<0.001 abs and rel |\t6 |\t96 |\tNew X =  [0.9999980052141819, 0.9999960104323411] \n",
        "Центральна |\t0.0005 |\te<0.001 norm grad |\t7 |\t115 |\tNew X =  [0.9999500024929464, 0.9999000074856244] \n",
        "Центральна |\t0.001 |\te<0.001 norm grad |\t7 |\t115 |\tNew X =  [0.9998000398852487, 0.9996001197542598]\n",
        "Ліва |\t0.000 |5\te<0.001 norm grad | \t9 |\t153 |\tNew X =  [1.2058355866515997, 1.4542894380237057]\n",
        "Ліва |\t0.0001 |\te<0.001 norm grad |\t7 |\t115 |\tNew X =  [1.0316466742572359, 1.0643448547745895] \n",
        "Ліва |\t0.005 |\te<0.001\t| ----| ----| ----\n",
        "Права |\t0.00001 |\te<0.001 norm grad |\t7 |\t115 |\tNew X =  [0.9970098635907303, 0.9940236679739325] \n",
        "Права |\t0.0005 |\te<0.001 norm grad |\t10 |\t172 |\tNew X =  [0.8785801457711826, 0.7716530714173243] \n",
        "Права |\t0.0001 |\te<0.001 norm grad |\t7 |\t115|\tNew X =  [0.9713556875599274, 0.9434818324003665] \n",
        "Права|\t0.005|\te<0.001 norm grad |\t18|\t324|\tNew X =  [0.4976273556938812, 0.24513288365795807] \n",
        "Права|\t0.00001|\te<0.0001 norm grad|\t7|\t115|\tAbsolute error =  6.626694831739814e-08; Relative error =  100.74648909134154 %; New X =  [0.9970098635907303, 0.9940236679739325] \n",
        "Центральна|\t0.00001|\te<0.0001 norm grad|\t7\t|115|\tNew X =  [0.9999999799999765, 0.9999999599999534] \n",
        "Ліва|\t0.0001|\te<0.0001 norm grad|\t7|\t115|\tAbsolute error =  6.036556179714122e-08; Relative error =  100.66607657367439 %; New X =  [1.0030200532815536, 1.0060542271847412] \n",
        "\n",
        "Найкраще показала себе центральна схема обчислення похідних із кроком 0.00001 та критерієм зупинки norm grad < 0.0001. \n",
        "\n",
        "Тепер розглянемо умовну оптимізацію. Функція: $((1 - x1)^2) + (100 * (x2 - x1^2)^2) + R * (1 - x1^2 - x2^2)$\n"
      ]
    },
    {
      "cell_type": "code",
      "metadata": {
        "id": "g8RNl0h80Ay7"
      },
      "source": [
        "znach_x = []\n",
        "znach_y = []\n",
        "znach_z = []\n",
        "R = 10000\n",
        "h = 0.00001\n",
        "\n",
        "\n",
        "znach_z.append(func_rosenbroks(-1.2, 0))\n",
        "\n",
        "X = [-1.2, 0]\n",
        "\n",
        "znach_x.append(X[0])\n",
        "znach_y.append(X[1])\n",
        "\n",
        "x1 = Symbol('x1')\n",
        "x2 = Symbol('x2')\n",
        "\n",
        "y = ((1 - x1) ** 2) + (100 * (x2 - (x1 ** 2)) ** 2) + R * (1 - (x1 ** 2) - (x2 ** 2))**2 + R * ((x1 ** 2) + (x2**2) - 0.5)**2\n",
        "# deltha = 2\n",
        "\n",
        "x1d = y.diff(x1)\n",
        "x2d = y.diff(x2)\n",
        "\n",
        "k1x1_1 = 2\n",
        "k1x1_3 = 400\n",
        "k1x1x2 = -400\n",
        "k1c = -2\n",
        "\n",
        "k2x2 = 200\n",
        "k2x1_2 = -200\n",
        "\n",
        "print(x1d)\n",
        "\n",
        "print(x2d)\n",
        "\n",
        "H = [[x1d.diff(x1), x1d.diff(x2)],\n",
        "     [x2d.diff(x1), x2d.diff(x2)]]\n",
        "\n",
        "print('H = ')\n",
        "print(H[0])\n",
        "print(H[1])\n",
        "\n",
        "counter = 1\n",
        "\n",
        "while True:\n",
        "    H_c = [[H[0][0].evalf(subs={x1: X[0], x2: X[1]}), H[0][1].evalf(subs={x1: X[0], x2: X[1]})],\n",
        "           [H[1][0].evalf(subs={x1: X[0], x2: X[1]}), H[1][1].evalf(subs={x1: X[0], x2: X[1]})]]\n",
        "\n",
        "    print('\\nH_c = ')\n",
        "    print(H_c[0])\n",
        "    print(H_c[1])\n",
        "\n",
        "    detH = (H_c[0][0] * H_c[1][1]) - (H_c[0][1] * H_c[1][0])\n",
        "    print('---------------\\ndetH = ', detH)\n",
        "\n",
        "    trH = [[H_c[1][1], H_c[1][0]],\n",
        "           [H_c[0][1], H_c[0][0]]]\n",
        "    print('---------------\\ntransposed H = ')\n",
        "    print(trH[0])\n",
        "    print(trH[1])\n",
        "\n",
        "    turnH = [[(trH[0][0]/detH), (trH[0][1]/detH)],\n",
        "             [(trH[1][0]/detH), (trH[1][1]/detH)]]\n",
        "    print('---------------\\nturned H = ')\n",
        "    print(turnH[0])\n",
        "    print(turnH[1])\n",
        "\n",
        "    dY_midle = [dev_midle_func(X[0], X[1], 'x'), dev_midle_func(X[0], X[1], 'y')]\n",
        "    print('dY_midle', dY_midle)\n",
        "\n",
        "    dY = [(-400 * X[0] * (-X[0]**2 + X[1]) + 2 * X[0] - 2), (-200 * X[0]**2 + 200 * X[1])]\n",
        "    print('dY', dY)\n",
        "\n",
        "    my_dY = []\n",
        "\n",
        "\n",
        "    if scheme_selection == 'm':\n",
        "        my_dY = dY_midle\n",
        "    if scheme_selection == 'o':\n",
        "        my_dY = dY\n",
        "\n",
        "\n",
        "    norm_grad = math.sqrt((my_dY[0] ** 2) + (my_dY[1] ** 2))\n",
        "    print('---------------\\n---------------\\nnorm_grad', norm_grad)\n",
        "\n",
        "    deltha_X = [((turnH[0][0] * my_dY[0]) - (turnH[0][1]*my_dY[1])), -((turnH[1][0] * my_dY[0]) - (turnH[1][1] * my_dY[1]))]\n",
        "\n",
        "    print('deltha x ', deltha_X)\n",
        "\n",
        "    X = [X[0] - l * deltha_X[0], X[1] - l * deltha_X[1]]\n",
        "\n",
        "    znach_z.append(func_rosenbroks(X[0], X[1]))\n",
        "    znach_x.append(X[0])\n",
        "    znach_y.append(X[1])\n",
        "\n",
        "    abs_error = math.fabs(znach_z[counter] - znach_z[counter - 1])\n",
        "    rel_error = math.fabs(1 + ((znach_z[counter] - znach_z[counter - 1]) / math.fabs(znach_z[counter - 1]))) * 100\n",
        "    counter += 1\n",
        "    print('---------------\\nAbsolute error = ', abs_error)\n",
        "    print('Relative error = ', rel_error, '%')\n",
        "    print('---------------\\nNew X = ', X)\n",
        "    print('---------------\\nAll z= ', znach_z)\n",
        "    print('All y = ', znach_y)\n",
        "    print('All x = ', znach_x)\n",
        "    if norm_grad<0.00001:\n",
        "        print(\"norm grad succeed\")\n",
        "        break\n",
        "    # if abs_error<0.00001 and rel_error<0.00001:\n",
        "    #     print(\"abs and rel succeed\")\n",
        "    #     break\n",
        "    # counter += 1"
      ],
      "execution_count": null,
      "outputs": []
    },
    {
      "cell_type": "markdown",
      "metadata": {
        "id": "sF3xbyHW2S4q"
      },
      "source": [
        "Випукла область:\n",
        "\n",
        "R |\tТочка\n",
        "----|----\n",
        "0.1 |\tX =  [0.865717502130223, 0.749001707846897] \n",
        "1 |\tX =  [0.801510094966007, 0.641722469423854] \n",
        "2 |\tX =  [0.794454726571642, 0.630436866951462] \n",
        "3 |\t X =  [0.791897491372868, 0.626370954710029] \n",
        "4 |\tX =  [0.790575060442125, 0.624273467685579] \n",
        "5 |\tX =  [0.789766785545381, 0.622993197774988] \n",
        "6 |\tX =  [0.789221564096125, 0.622130330304443] \n",
        "7 |\tX =  [0.788828934406059, 0.621509322802078] \n",
        "8 |\tX =  [0.788532694289109, 0.621040975117976] \n",
        "9 |\tX =  [0.788301226220116, 0.620675152460733] \n",
        "10 |\tX =  [0.788115378876008, 0.620381508432737] \n",
        "11 |\tX =  [0.787962874058760, 0.620140598138266] \n",
        "12 |\tX =  [0.787835477075405, 0.619939386092382] \n",
        "13 |\tX =  [0.787727458754618, 0.619768806327296] \n",
        "14 |\tX =  [0.787634709846609, 0.619622358249984] \n",
        "100 |\tX = [0.786587458069243, 0.617969969297114] \n",
        "1000 |\tX= [0.786432407792303, 0.617725512205793] \n",
        "\n",
        "Невипукла область:\n",
        "\n",
        "R\t| Точка\n",
        "----|----\n",
        "0.1 |\tX =  [0.795755328617448, 0.632509795107829] \n",
        "1 |\tX =  [0.723588239453218, 0.522603827107901] \n",
        "10 | X =  [0.709272833358622, 0.502041128112582] \n",
        "100 |\tX =  [0.707654222832219, 0.499741966891846] \n",
        " 1000 |\tX =  [0.707490132737848, 0.499509177356979] \n",
        "1000 |\tX =  [0.707473700983785, 0.499485869145236] \n",
        "\n",
        "## Вплив критерія закінчення на збіжність методу\n",
        "\n",
        "За дослідження поведінки норми градієнта було виявлено, що не завжди напрям мінімізації функції є напрямом спуску. Продемонструємо це налаштувавши програму на роботу із методом diff, оскільки так у нас скінченне число ітерацій. Норма градієнта змінюється так: 752.8, 4.4, 2058.4, 0.05, 0.28, 8.007914331642496e-10. Градієнт не зменшується монотонно — є підйоми. Це пов’язане із тим, що не всі напрямки є напрямками спуску.\n",
        "\n",
        "Відносна похибка в рамках реалізації алгоритму метода Ньютона веде себе досить неоднозначно: переважно зменшується від ітерації до ітерації. А на кроці, де метод приходить до теоретичного мінімума становить близько 100%. \n",
        "Абсолютна похибка в рамках реалізації алгоритму метода Ньютона веде себе так : різко зменшується в перших ітераціях. А на кроці, де метод приходить до теоретичного мінімума становить 1.6031672985731321e-19.\n"
      ]
    },
    {
      "cell_type": "code",
      "metadata": {
        "colab": {
          "base_uri": "https://localhost:8080/",
          "height": 479
        },
        "id": "npzRUldD3K16",
        "outputId": "775a9132-c5ab-4a01-872c-b0e92f1614db"
      },
      "source": [
        "fig = plt.figure()\n",
        "ax = fig.gca(projection='3d')\n",
        "\n",
        "# Make data.\n",
        "X = np.arange(-5, 5, 0.2)\n",
        "Y = np.arange(-5, 5, 0.2)\n",
        "X, Y = np.meshgrid(X, Y)\n",
        "Z = ((1-X)**2) + (100 * ((Y-X**2)**2))\n",
        "\n",
        "# Plot the surface.\n",
        "surf = ax.plot_surface(X, Y, Z, cmap=cm.coolwarm,\n",
        "                       linewidth=0, antialiased=False)\n",
        "\n",
        "# Customize the z axis.\n",
        "ax.set_zlim(-50, 10000)\n",
        "# ax.zaxis.set_major_locator(LinearLocator(10))\n",
        "# ax.zaxis.set_major_formatter(FormatStrFormatter('%.02f'))\n",
        "\n",
        "# Add a color bar which maps values to colors.\n",
        "fig.colorbar(surf, shrink=0.5, aspect=5)\n",
        "\n",
        "\n",
        "plt.show()\n",
        "fig = plt.figure()\n",
        "ax = fig.gca(projection='3d')\n",
        "plt.plot(znach_x, znach_y, znach_z, 'r-')\n",
        "plt.show()"
      ],
      "execution_count": null,
      "outputs": [
        {
          "output_type": "display_data",
          "data": {
            "image/png": "[encoded data removed]",
            "text/plain": [
              "<Figure size 432x288 with 2 Axes>"
            ]
          },
          "metadata": {
            "tags": [],
            "needs_background": "light"
          }
        },
        {
          "output_type": "display_data",
          "data": {
            "image/png": "[encoded data removed]",
            "text/plain": [
              "<Figure size 432x288 with 1 Axes>"
            ]
          },
          "metadata": {
            "tags": [],
            "needs_background": "light"
          }
        }
      ]
    },
    {
      "cell_type": "markdown",
      "metadata": {
        "id": "B_hONBxx3X3n"
      },
      "source": [
        "----"
      ]
    },
    {
      "cell_type": "markdown",
      "metadata": {
        "id": "PgT67G1AInlY"
      },
      "source": [
        "# Висновки\n"
      ]
    },
    {
      "cell_type": "markdown",
      "metadata": {
        "id": "vW3sqZcS22i1"
      },
      "source": [
        "Було виявлено, що є два способи знайти похідні у програмах на Python: чисельні методи апроксимації похідних та засоби стандартних символьних бібліотек (дають напівавтоматизовану програму). Найкращий результат досягнуто із застосуванням центральної схеми із кроком h = 0.0001, критерієм зупину «Норма градієнта менше 0.0001»: 7 ітерацій, 115 обрахунків значень цільової функції і точка, що відхиляється від теоретичного мінімуму на [2.0000023526201005e-08, 4.00000466083128e-08]. А метод diff символьної бібліотеки дає відповідь, рівну теоретичному мінімуму, вже на шостій ітерації. Ймовірно, це відбувається через те, що з наведеним методом ми маємо змогу отримати точний аналітичний вираз для похідної, а вся похибка, що при цьому накопичується, це похибка вхідних даних, на відміну від різнецевих схем.\t\n",
        "\n",
        "Найкращими критеріями закінчення виявились норма градієнта, але за умови, що ми перейшли через стрибок: за цього викиду різко зростає як норма градієнта, так і абсолютна похибка. Відбувається це тому, що не всі напрямки мінімізації функції в ході виконання досліджень були напрямками спуску. \n"
      ]
    },
    {
      "cell_type": "markdown",
      "metadata": {
        "id": "LaFYjA1m3YxA"
      },
      "source": [
        "----"
      ]
    },
    {
      "cell_type": "markdown",
      "metadata": {
        "id": "6C25CbDQI6FQ"
      },
      "source": [
        "# Список використаних джерел"
      ]
    },
    {
      "cell_type": "markdown",
      "metadata": {
        "id": "35Hda0hJI9wc"
      },
      "source": [
        "1. В. Реклейтис «Оптимизация в технике» часть 1, М .; «Мир», 1986\n",
        "2. Д. Химмельблау. «Прикладное нелинейное программирование». М .; «Мир», 1975.\n",
        "3. Т. С. Ладогубец. «Методы оптимизации» - электронный конспект. Киев.\n"
      ]
    }
  ]
}